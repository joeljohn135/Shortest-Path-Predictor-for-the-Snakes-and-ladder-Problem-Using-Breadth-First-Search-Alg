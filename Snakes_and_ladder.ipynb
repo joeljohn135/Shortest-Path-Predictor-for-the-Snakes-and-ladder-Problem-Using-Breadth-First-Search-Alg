{
  "cells": [
    {
      "cell_type": "code",
      "execution_count": null,
      "metadata": {
        "id": "Y2W2NJ11j2Ur"
      },
      "outputs": [],
      "source": [
        "                                                  '''~SNAKES AND LADDERS~\n",
        "                                                                    \n",
        "              OBJECTIVES:\n",
        "                  1. To find the minimum number of moves required to reach the goal state.\n",
        "                  2. To find the dice number at each move to follow the shortest path to the goal.\n",
        "                  3. To find the chance of winning in a 2 player scenario based on the minimum number of moves required to reach the goal state.\n",
        "\n",
        "              ALGORITHM: Breadth - First Search Algorithm.\n",
        "                         Complexity: O(N)\n",
        "\n",
        "              ADD-ONS:\n",
        "                  1. Randomize the positions of the snakes and ladders on the game board.\n",
        "                  2. Display the entire game board with cell numbers and/or snake/ladder positions at each cell.\n",
        "'''"
      ]
    },
    {
      "cell_type": "code",
      "execution_count": null,
      "metadata": {
        "colab": {
          "base_uri": "https://localhost:8080/"
        },
        "id": "bhg1JVmygbeG",
        "outputId": "68defd70-b596-498d-8b59-8eb79fab223f"
      },
      "outputs": [
        {
          "name": "stdout",
          "output_type": "stream",
          "text": [
            "1  Snakes\n",
            "4  Ladders\n",
            "\n",
            "\n"
          ]
        }
      ],
      "source": [
        "                                           '''Randomize the positions of the snakes and ladders on the game board'''\n",
        "\n",
        "import random\n",
        "\n",
        "#Size of the board\n",
        "N = 36\n",
        "#Game Board\n",
        "moves = [-1] * N\n",
        "\n",
        "n_snakes = random.randrange(1,int(N/4+1))\n",
        "n_ladder = random.randrange(1,int(N/4+1))\n",
        "print(n_snakes,\" Snakes\")\n",
        "print(n_ladder,\" Ladders\\n\\n\")\n",
        "\n",
        "#Generating Random Values for snakes and ladders positions\n",
        "head = random.sample(range(2,N), n_snakes+n_ladder)\n",
        "tail = random.sample(range(1,N), n_snakes+n_ladder)\n",
        "\n",
        "#Checking validity for the random generated values\n",
        "for i in range(n_snakes+n_ladder):\n",
        "  if(head[i]<=tail[i]):\n",
        "    a = random.randint(1,head[i])\n",
        "    while(a in tail or a in head):\n",
        "       a = random.randint(1,head[i])\n",
        "    tail[i] = a         \n",
        "\n",
        "#Assigning the snakes and ladders position in the game board\n",
        "for i in range(n_snakes):\n",
        "  moves[head[i]] = tail[i]\n",
        "for i in range(n_snakes, n_snakes+n_ladder):\n",
        "  moves[tail[i]] = head[i]\n"
      ]
    },
    {
      "cell_type": "code",
      "execution_count": null,
      "metadata": {
        "colab": {
          "base_uri": "https://localhost:8080/"
        },
        "id": "6jwJi4J_ggm2",
        "outputId": "92b60d1f-05eb-4221-bbe2-f39ae69949db"
      },
      "outputs": [
        {
          "name": "stdout",
          "output_type": "stream",
          "text": [
            "\t SNAKES AND LADDER GAME GRID\n",
            "\n",
            "\t\tRows:   6\n",
            "\t\tColumns   6\n",
            "\n",
            "35\t34\t33\t32\t31\t30\t\n",
            "24\t25\t26\t27\t28\t29\t\n",
            "23\t22\t21\t20\t19\t18\t\n",
            "L-23\tS-8\t14\t15\t16\t17\t\n",
            "11\tL-11\t9\t8\t7\t6\t\n",
            "0\tL-3\t2\tL-4\t4\t5\t"
          ]
        }
      ],
      "source": [
        "                                  '''Display the entire game board with cell numbers and/or snake/ladder positions at each cell'''\n",
        "\n",
        "import math\n",
        "\n",
        "print(\"\\t SNAKES AND LADDER GAME GRID\\n\")\n",
        "rows=int(math.sqrt(len(moves)))\n",
        "print(\"\\t\\tRows:  \",rows)\n",
        "\n",
        "columns=int(len(moves)/rows)\n",
        "print(\"\\t\\tColumns  \",columns)\n",
        "\n",
        "rev_moves = moves[::-1]\n",
        "\n",
        "ko=[]\n",
        "cell = N-1\n",
        "\n",
        "if (rows%2==0):\n",
        "  for i in range(0, len(moves)-rows, 2*rows):\n",
        "    ko = rev_moves[i:i+rows]\n",
        "    print()\n",
        "\n",
        "    for k in ko:\n",
        "      if(k == -1):\n",
        "       print(cell, end=\"\\t\")\n",
        "      else:\n",
        "        if(cell < k):\n",
        "          print(\"L-%d\"%k, end=\"\\t\")\n",
        "        else:\n",
        "          print(\"S-%d\"%k, end=\"\\t\")\n",
        "      cell-=1\n",
        "\n",
        "    ko = rev_moves[i+rows:i+(2*rows)]\n",
        "    ko = ko[::-1]\n",
        "    print()\n",
        "    cell -= rows-1\n",
        "\n",
        "    for k in ko:\n",
        "      if(k == -1):\n",
        "       print(cell, end=\"\\t\")\n",
        "      else:\n",
        "        if(cell < k):\n",
        "          print(\"L-%d\"%k, end=\"\\t\")\n",
        "        else:\n",
        "          print(\"S-%d\"%k, end=\"\\t\")\n",
        "      cell+=1\n",
        "\n",
        "    cell -= rows+1\n",
        "\n",
        "else:\n",
        "  for i in range(0, len(moves), 2*rows):\n",
        "    ko = rev_moves[i:i+rows]\n",
        "    ko = ko[::-1]\n",
        "    print()\n",
        "\n",
        "    cell -= rows-1\n",
        "\n",
        "    for k in ko:\n",
        "      if(k == -1):\n",
        "        print(cell, end=\"\\t\")\n",
        "      else:\n",
        "        if(cell < k):\n",
        "          print(\"L-%d\"%k, end=\"\\t\")\n",
        "        else:\n",
        "          print(\"S-%d\"%k, end=\"\\t\")\n",
        "      cell+=1\n",
        "\n",
        "    ko = rev_moves[i+rows:i+(2*rows)]\n",
        "    print()\n",
        "    cell -= rows+1\n",
        "\n",
        "    for k in ko:\n",
        "      if(k == -1):\n",
        "        print(cell, end=\"\\t\")\n",
        "      else:\n",
        "        if(cell < k):\n",
        "          print(\"L-%d\"%k, end=\"\\t\")\n",
        "        else:\n",
        "          print(\"S-%d\"%k, end=\"\\t\")\n",
        "      cell-=1"
      ]
    },
    {
      "cell_type": "code",
      "execution_count": null,
      "metadata": {
        "id": "NoEeaFPkgQGP"
      },
      "outputs": [],
      "source": [
        "                                                              '''Implementing the BFS Algorithm'''\n",
        " \n",
        "# An entry in queue used in BFS\n",
        "class QueueEntry(object):\n",
        "    def __init__(self, v = 0, dist = 0, nums=[]):\n",
        "        self.v = v        #Actual cell number\n",
        "        self.dist = dist  #Number of rolls away from the given start position\n",
        "        self.nums = []    #List of dice numbers required to reach this node form the given start position\n",
        " \n",
        "\n",
        "def getMinDiceThrows(start, move, N):\n",
        "     \n",
        "    if moves[start] != -1:\n",
        "      start = moves[start]\n",
        "    \n",
        "    #marking all nodes as unvisited\n",
        "    visited = [False] * N\n",
        " \n",
        "    # Create a queue for BFS\n",
        "    queue = []\n",
        " \n",
        "    # Mark the node 0 as visited and enqueue it\n",
        "    visited[start] = True \n",
        "    queue.append(QueueEntry(start, 0, []))\n",
        "    qe = QueueEntry()\n",
        "\n",
        "    while queue:\n",
        "\n",
        "        #Popping a node from the front of the queue\n",
        "        qe = queue.pop(0)\n",
        "        v = qe.v\n",
        " \n",
        "        #Goal Test\n",
        "        if v == N - 1:\n",
        "            break\n",
        " \n",
        "        #The current node has 6 possible children\n",
        "        j = v + 6\n",
        "        while j >= v + 1:\n",
        "\n",
        "            if (j >= N):\n",
        "              j -= 1\n",
        "              continue\n",
        "\n",
        "            if visited[j] is False:\n",
        "                 \n",
        "                #Finding the details of the children\n",
        "                a = QueueEntry()\n",
        "                a.dist = qe.dist + 1\n",
        "                a.nums = list(qe.nums)\n",
        "                a.nums.append((j-v))\n",
        "                visited[j] = True\n",
        "\n",
        "                a.v = move[j] if move[j] != -1 else j\n",
        "\n",
        "                #Enqueuing the children at the rear of the queue\n",
        "                queue.append(a)\n",
        " \n",
        "            j -= 1\n",
        "\n",
        "    return qe\n"
      ]
    },
    {
      "cell_type": "code",
      "execution_count": null,
      "metadata": {
        "colab": {
          "base_uri": "https://localhost:8080/"
        },
        "id": "IUKBmirJgVff",
        "outputId": "0171fa9d-df94-4a11-af93-60e5bd07ee64"
      },
      "outputs": [
        {
          "name": "stdout",
          "output_type": "stream",
          "text": [
            "Enter your start position :   6\n",
            "Min Dice throws required is  3\n",
            "Min Dice numbers at each turn required is  [6, 6, 6]\n"
          ]
        }
      ],
      "source": [
        "                                                                      '''Driver Code'''\n",
        "print(\"Enter your start position :   \", end=\"\")\n",
        "start = int(input())\n",
        "\n",
        "ans = getMinDiceThrows(start, moves, N)\n",
        "print(\"Min Dice throws required is \", ans.dist)\n",
        "print(\"Min Dice numbers at each turn required is \", ans.nums)\n"
      ]
    },
    {
      "cell_type": "code",
      "execution_count": null,
      "metadata": {
        "colab": {
          "base_uri": "https://localhost:8080/"
        },
        "id": "sIT6p6AWne3A",
        "outputId": "ff9430fb-cf32-465b-c87e-abb5f06ff7de"
      },
      "outputs": [
        {
          "name": "stdout",
          "output_type": "stream",
          "text": [
            "Enter the start position position of player 1:   22\n",
            "Enter the start position position of player 2:   16\n",
            "\n",
            "Min number of moves for player 1:  3\n",
            "Min number of moves for player 2:  4\n",
            "Player 1 has a higher chance of winning\n"
          ]
        }
      ],
      "source": [
        "                                                                       '''2 Player Scenario'''\n",
        "\n",
        "print(\"Enter the start position position of player 1:   \", end=\"\")\n",
        "start1 = int(input())\n",
        "\n",
        "print(\"Enter the start position position of player 2:   \", end=\"\")\n",
        "start2 = int(input())\n",
        "\n",
        "print()\n",
        "\n",
        "ans1 = getMinDiceThrows(start1, moves, N)\n",
        "ans2 = getMinDiceThrows(start2, moves, N)\n",
        "\n",
        "print(\"Min number of moves for player 1: \", ans1.dist)\n",
        "print(\"Min number of moves for player 2: \", ans2.dist)\n",
        "\n",
        "if(ans1.dist > ans2.dist):\n",
        "  print(\"Player 2 has a higher chance of winning\")\n",
        "elif(ans1.dist < ans2.dist):\n",
        "  print(\"Player 1 has a higher chance of winning\")\n",
        "else:\n",
        "  print(\"Both players have an equal chance of winning\")"
      ]
    }
  ],
  "metadata": {
    "colab": {
      "collapsed_sections": [],
      "name": "Snakes and ladder.ipynb",
      "provenance": []
    },
    "kernelspec": {
      "display_name": "Python 3",
      "name": "python3"
    },
    "language_info": {
      "name": "python"
    }
  },
  "nbformat": 4,
  "nbformat_minor": 0
}
